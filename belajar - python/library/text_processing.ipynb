{
 "cells": [
  {
   "cell_type": "markdown",
   "metadata": {},
   "source": [
    "<h1> TEKS PROCESSING"
   ]
  },
  {
   "cell_type": "markdown",
   "metadata": {},
   "source": [
    "<H3> STRING"
   ]
  },
  {
   "cell_type": "code",
   "execution_count": 3,
   "metadata": {},
   "outputs": [
    {
     "name": "stdout",
     "output_type": "stream",
     "text": [
      "DICODING\n",
      "dicoding\n",
      "Dicoding\n",
      "['d', 'cod', 'ng']\n",
      "00dicoding\n"
     ]
    }
   ],
   "source": [
    "tesString = \"dicoding\"\n",
    "print(tesString.upper())\n",
    "\n",
    "tesStringLower = \"DICODING\"\n",
    "print(tesStringLower.lower())\n",
    "\n",
    "print(tesString.title())\n",
    "\n",
    "print(tesString.split(\"i\"))\n",
    "\n",
    "print(tesString.zfill(10))"
   ]
  },
  {
   "cell_type": "markdown",
   "metadata": {},
   "source": [
    "<H3> REGEX"
   ]
  },
  {
   "cell_type": "code",
   "execution_count": 12,
   "metadata": {},
   "outputs": [
    {
     "name": "stdout",
     "output_type": "stream",
     "text": [
      "Pencarian berhasil.\n"
     ]
    }
   ],
   "source": [
    "import re\n",
    "\n",
    "pola = '^a...s$'\n",
    "string_tes = 'abyss'\n",
    "hasil = re.match(pola, string_tes)\n",
    "\n",
    "# kondisi\n",
    "if hasil:\n",
    "    print(\"Pencarian berhasil.\")\n",
    "else:\n",
    "    print(\"Pencarian gagal.\") "
   ]
  }
 ],
 "metadata": {
  "kernelspec": {
   "display_name": "Python 3",
   "language": "python",
   "name": "python3"
  },
  "language_info": {
   "codemirror_mode": {
    "name": "ipython",
    "version": 3
   },
   "file_extension": ".py",
   "mimetype": "text/x-python",
   "name": "python",
   "nbconvert_exporter": "python",
   "pygments_lexer": "ipython3",
   "version": "3.13.1"
  }
 },
 "nbformat": 4,
 "nbformat_minor": 2
}
