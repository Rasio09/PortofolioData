{
 "cells": [
  {
   "cell_type": "markdown",
   "metadata": {},
   "source": [
    "<h1>LIBRARY WEB SCRAPING"
   ]
  },
  {
   "cell_type": "markdown",
   "metadata": {},
   "source": [
    "<h3>BEAUTIFULSOUP"
   ]
  },
  {
   "cell_type": "code",
   "execution_count": 5,
   "metadata": {},
   "outputs": [],
   "source": [
    "# from urllib.request import urlopen\n",
    "# from bs4 import BeautifulSoup\n",
    "\n",
    "# # Pengambilan konten\n",
    "# url = \"http://python.org/\"\n",
    "# page = urlopen(url)\n",
    "# html = page.read().decode(\"utf-8\")\n",
    " \n",
    "# # Membuat objek BeautifulSoup\n",
    "# soup = BeautifulSoup(html, \"html.parser\")\n",
    " \n",
    "# # Mencetak judul halaman\n",
    "# print(soup.title)\n"
   ]
  },
  {
   "cell_type": "code",
   "execution_count": 6,
   "metadata": {},
   "outputs": [
    {
     "name": "stdout",
     "output_type": "stream",
     "text": [
      "Welcome to Python.org\n"
     ]
    }
   ],
   "source": [
    "from urllib.request import urlopen\n",
    "from bs4 import BeautifulSoup\n",
    "import gzip\n",
    "\n",
    "# Pengambilan konten\n",
    "url = \"http://python.org/\"\n",
    "page = urlopen(url)\n",
    "raw_data = page.read()\n",
    "\n",
    "# Periksa jika data terkompresi\n",
    "if page.info().get(\"Content-Encoding\") == \"gzip\":\n",
    "    html = gzip.decompress(raw_data).decode(\"utf-8\")\n",
    "else:\n",
    "    html = raw_data.decode(\"utf-8\")\n",
    "\n",
    "# Membuat objek BeautifulSoup\n",
    "soup = BeautifulSoup(html, \"html.parser\")\n",
    "\n",
    "# Mencetak judul halaman\n",
    "print(soup.title.text)"
   ]
  },
  {
   "cell_type": "markdown",
   "metadata": {},
   "source": [
    "<h3>URLLIB"
   ]
  },
  {
   "cell_type": "code",
   "execution_count": 8,
   "metadata": {},
   "outputs": [
    {
     "name": "stdout",
     "output_type": "stream",
     "text": [
      "Welcome to Python.org\n"
     ]
    }
   ],
   "source": [
    "from urllib.request import urlopen\n",
    "\n",
    "# Pengambilan konten\n",
    "url = \"http://python.org/\"\n",
    "page = urlopen(url)\n",
    "raw_data = page.read()\n",
    "\n",
    "# Periksa jika data terkompresi\n",
    "if page.info().get(\"Content-Encoding\") == \"gzip\":\n",
    "    html = gzip.decompress(raw_data).decode(\"utf-8\")\n",
    "else:\n",
    "    html = raw_data.decode(\"utf-8\")\n",
    " \n",
    "# Mencari indeks awal dan akhir\n",
    "start_index = html.find(\"<title>\") + len(\"<title>\")\n",
    "end_index = html.find(\"</title>\")\n",
    " \n",
    "# Mengekstrak dan mencetak judul halaman\n",
    "title = html[start_index:end_index]\n",
    "print(title)"
   ]
  }
 ],
 "metadata": {
  "kernelspec": {
   "display_name": "Python 3",
   "language": "python",
   "name": "python3"
  },
  "language_info": {
   "codemirror_mode": {
    "name": "ipython",
    "version": 3
   },
   "file_extension": ".py",
   "mimetype": "text/x-python",
   "name": "python",
   "nbconvert_exporter": "python",
   "pygments_lexer": "ipython3",
   "version": "3.13.1"
  }
 },
 "nbformat": 4,
 "nbformat_minor": 2
}
