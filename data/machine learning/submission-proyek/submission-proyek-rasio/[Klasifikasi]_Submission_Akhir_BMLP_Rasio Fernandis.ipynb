{
  "cells": [
    {
      "cell_type": "markdown",
      "metadata": {
        "id": "fKADPWcFKlj3"
      },
      "source": [
        "# **1. Import Library**"
      ]
    },
    {
      "cell_type": "markdown",
      "metadata": {
        "id": "LgA3ERnVn84N"
      },
      "source": [
        "Pada tahap ini, Anda perlu mengimpor beberapa pustaka (library) Python yang dibutuhkan untuk analisis data dan pembangunan model machine learning."
      ]
    },
    {
      "cell_type": "code",
      "execution_count": 1,
      "metadata": {
        "id": "BlmvjLY9M4Yj"
      },
      "outputs": [],
      "source": [
        "import pandas as pd\n",
        "import numpy as np\n",
        "from sklearn.model_selection import train_test_split\n",
        "from sklearn.naive_bayes import GaussianNB\n",
        "from sklearn.linear_model import LogisticRegression\n",
        "from sklearn.tree import DecisionTreeClassifier\n",
        "from sklearn.ensemble import RandomForestClassifier\n",
        "from sklearn.neighbors import KNeighborsClassifier\n",
        "from sklearn.metrics import confusion_matrix, f1_score, accuracy_score, precision_score, recall_score\n",
        "import matplotlib.pyplot as plt\n",
        "import seaborn as sns"
      ]
    },
    {
      "cell_type": "markdown",
      "metadata": {
        "id": "f3YIEnAFKrKL"
      },
      "source": [
        "# **2. Memuat Dataset dari Hasil Clustering**"
      ]
    },
    {
      "cell_type": "markdown",
      "metadata": {
        "id": "Ey3ItwTen_7E"
      },
      "source": [
        "Memuat dataset hasil clustering dari file CSV ke dalam variabel DataFrame."
      ]
    },
    {
      "cell_type": "code",
      "execution_count": 2,
      "metadata": {
        "id": "GHCGNTyrM5fS"
      },
      "outputs": [
        {
          "data": {
            "text/html": [
              "<div>\n",
              "<style scoped>\n",
              "    .dataframe tbody tr th:only-of-type {\n",
              "        vertical-align: middle;\n",
              "    }\n",
              "\n",
              "    .dataframe tbody tr th {\n",
              "        vertical-align: top;\n",
              "    }\n",
              "\n",
              "    .dataframe thead th {\n",
              "        text-align: right;\n",
              "    }\n",
              "</style>\n",
              "<table border=\"1\" class=\"dataframe\">\n",
              "  <thead>\n",
              "    <tr style=\"text-align: right;\">\n",
              "      <th></th>\n",
              "      <th>status_type</th>\n",
              "      <th>num_reactions</th>\n",
              "      <th>num_comments</th>\n",
              "      <th>num_shares</th>\n",
              "      <th>num_likes</th>\n",
              "      <th>num_loves</th>\n",
              "      <th>cluster</th>\n",
              "    </tr>\n",
              "  </thead>\n",
              "  <tbody>\n",
              "    <tr>\n",
              "      <th>0</th>\n",
              "      <td>1.000000</td>\n",
              "      <td>0.112314</td>\n",
              "      <td>0.024393</td>\n",
              "      <td>0.076519</td>\n",
              "      <td>0.091720</td>\n",
              "      <td>0.140030</td>\n",
              "      <td>1</td>\n",
              "    </tr>\n",
              "    <tr>\n",
              "      <th>1</th>\n",
              "      <td>0.333333</td>\n",
              "      <td>0.031847</td>\n",
              "      <td>0.000000</td>\n",
              "      <td>0.000000</td>\n",
              "      <td>0.031847</td>\n",
              "      <td>0.000000</td>\n",
              "      <td>3</td>\n",
              "    </tr>\n",
              "    <tr>\n",
              "      <th>2</th>\n",
              "      <td>1.000000</td>\n",
              "      <td>0.048195</td>\n",
              "      <td>0.011243</td>\n",
              "      <td>0.016647</td>\n",
              "      <td>0.043312</td>\n",
              "      <td>0.031963</td>\n",
              "      <td>1</td>\n",
              "    </tr>\n",
              "    <tr>\n",
              "      <th>3</th>\n",
              "      <td>0.333333</td>\n",
              "      <td>0.023567</td>\n",
              "      <td>0.000000</td>\n",
              "      <td>0.000000</td>\n",
              "      <td>0.023567</td>\n",
              "      <td>0.000000</td>\n",
              "      <td>3</td>\n",
              "    </tr>\n",
              "    <tr>\n",
              "      <th>4</th>\n",
              "      <td>0.333333</td>\n",
              "      <td>0.045223</td>\n",
              "      <td>0.000000</td>\n",
              "      <td>0.000000</td>\n",
              "      <td>0.043312</td>\n",
              "      <td>0.013699</td>\n",
              "      <td>3</td>\n",
              "    </tr>\n",
              "  </tbody>\n",
              "</table>\n",
              "</div>"
            ],
            "text/plain": [
              "   status_type  num_reactions  num_comments  num_shares  num_likes  num_loves  \\\n",
              "0     1.000000       0.112314      0.024393    0.076519   0.091720   0.140030   \n",
              "1     0.333333       0.031847      0.000000    0.000000   0.031847   0.000000   \n",
              "2     1.000000       0.048195      0.011243    0.016647   0.043312   0.031963   \n",
              "3     0.333333       0.023567      0.000000    0.000000   0.023567   0.000000   \n",
              "4     0.333333       0.045223      0.000000    0.000000   0.043312   0.013699   \n",
              "\n",
              "   cluster  \n",
              "0        1  \n",
              "1        3  \n",
              "2        1  \n",
              "3        3  \n",
              "4        3  "
            ]
          },
          "execution_count": 2,
          "metadata": {},
          "output_type": "execute_result"
        }
      ],
      "source": [
        "#import dataset\n",
        "df = pd.read_csv(\"hasil_cluster.csv\")\n",
        "df.head()"
      ]
    },
    {
      "cell_type": "markdown",
      "metadata": {
        "id": "KkPem5eWL2UP"
      },
      "source": [
        "# **3. Data Splitting**"
      ]
    },
    {
      "cell_type": "markdown",
      "metadata": {
        "id": "YYj1rl_JNI9Y"
      },
      "source": [
        "Tahap Data Splitting bertujuan untuk memisahkan dataset menjadi dua bagian: data latih (training set) dan data uji (test set)."
      ]
    },
    {
      "cell_type": "code",
      "execution_count": 3,
      "metadata": {
        "id": "OubAW-7ONKVj"
      },
      "outputs": [],
      "source": [
        "# data splitting data pelatihan dan data pengujian\n",
        "x = df.drop(columns='cluster')\n",
        "y = df['cluster']\n",
        "\n",
        "# split data\n",
        "x_train, x_test, y_train, y_test = train_test_split(x, y, test_size=0.2, random_state=42)"
      ]
    },
    {
      "cell_type": "code",
      "execution_count": 4,
      "metadata": {},
      "outputs": [
        {
          "name": "stdout",
          "output_type": "stream",
          "text": [
            "Training set shape: x_train=(5640, 6), y_train=(5640,)\n",
            "Test set shape: x_test=(1410, 6), y_test=(1410,)\n"
          ]
        }
      ],
      "source": [
        "# menampilkan bentuk pelatihannya\n",
        "print(f\"Training set shape: x_train={x_train.shape}, y_train={y_train.shape}\")\n",
        "\n",
        "print(f\"Test set shape: x_test={x_test.shape}, y_test={y_test.shape}\")"
      ]
    },
    {
      "cell_type": "markdown",
      "metadata": {
        "id": "IVPbB03CMhTT"
      },
      "source": [
        "# **4. Membangun Model Klasifikasi**\n"
      ]
    },
    {
      "cell_type": "markdown",
      "metadata": {
        "id": "Ned1pL9zMmBK"
      },
      "source": [
        "## **a. Membangun Model Klasifikasi**"
      ]
    },
    {
      "cell_type": "markdown",
      "metadata": {
        "id": "WAWzPOE4Nkti"
      },
      "source": [
        "Setelah memilih algoritma klasifikasi yang sesuai, langkah selanjutnya adalah melatih model menggunakan data latih.\n",
        "\n",
        "Berikut adalah rekomendasi tahapannya.\n",
        "1. Pilih algoritma klasifikasi yang sesuai, seperti Logistic Regression, Decision Tree, Random Forest, atau K-Nearest Neighbors (KNN).\n",
        "2. Latih model menggunakan data latih."
      ]
    },
    {
      "cell_type": "code",
      "execution_count": 5,
      "metadata": {
        "id": "4JYxBe87NLDk"
      },
      "outputs": [
        {
          "name": "stdout",
          "output_type": "stream",
          "text": [
            "Model training selesai.\n"
          ]
        }
      ],
      "source": [
        "#Model\n",
        "nb = GaussianNB().fit(x_train, y_train)\n",
        "lr = LogisticRegression().fit(x_train, y_train)\n",
        "dt = DecisionTreeClassifier().fit(x_train, y_train)\n",
        "rf = RandomForestClassifier().fit(x_train, y_train)\n",
        "print(\"Model training selesai.\")"
      ]
    },
    {
      "cell_type": "markdown",
      "metadata": {
        "id": "seYoHNY3XU1y"
      },
      "source": [
        "Disini saya menggunakan metode untuk klasifikasi dengan beberapa diantaranya adalah gausian (naive bayes), logistic regression, decision tree dan random forest. setelah akan dilakukan percobaan untuk mendapatkan nilai yang paling tertinggi yang digunakan."
      ]
    },
    {
      "cell_type": "markdown",
      "metadata": {
        "id": "ergzChZFEL-O"
      },
      "source": [
        "## **b. Evaluasi Model Klasifikasi**"
      ]
    },
    {
      "cell_type": "markdown",
      "metadata": {
        "id": "zOm68u-7NpLT"
      },
      "source": [
        "Berikut adalah **rekomendasi** tahapannya.\n",
        "1. Lakukan prediksi menggunakan data uji.\n",
        "2. Hitung metrik evaluasi seperti Accuracy dan F1-Score (Opsional: Precision dan Recall).\n",
        "3. Buat confusion matrix untuk melihat detail prediksi benar dan salah."
      ]
    },
    {
      "cell_type": "code",
      "execution_count": 6,
      "metadata": {
        "id": "tMq4QAssNLip"
      },
      "outputs": [
        {
          "name": "stdout",
          "output_type": "stream",
          "text": [
            "==== Naive Bayes ====\n",
            "Confusion Matrix:\n",
            "Accuracy: 0.9766\n",
            "Precision: 0.9840\n",
            "Recall: 0.9766\n",
            "F1-Score: 0.9786\n",
            "\n",
            "----------------------------------------\n",
            "\n"
          ]
        },
        {
          "data": {
            "image/png": "[encoded data removed]",
            "text/plain": [
              "<Figure size 500x400 with 1 Axes>"
            ]
          },
          "metadata": {},
          "output_type": "display_data"
        }
      ],
      "source": [
        "# Model\n",
        "# Naive Bayes (Gaussian)\n",
        "y_pred_nb = nb.predict(x_test)\n",
        "cm_nb = confusion_matrix(y_test, y_pred_nb)\n",
        "\n",
        "# Tampilkan confusion matrix secara keseluruhan\n",
        "print(\"==== Naive Bayes ====\")\n",
        "print(\"Confusion Matrix:\")\n",
        "\n",
        "# Tampilkan metrik untuk multi-kelas\n",
        "print(f\"Accuracy: {accuracy_score(y_test, y_pred_nb):.4f}\")\n",
        "print(f\"Precision: {precision_score(y_test, y_pred_nb, average='weighted'):.4f}\")\n",
        "print(f\"Recall: {recall_score(y_test, y_pred_nb, average='weighted'):.4f}\")\n",
        "print(f\"F1-Score: {f1_score(y_test, y_pred_nb, average='weighted'):.4f}\")\n",
        "print(\"\\n\" + \"-\"*40 + \"\\n\")\n",
        "\n",
        "# Plot confusion matrix\n",
        "plt.figure(figsize=(5, 4))\n",
        "sns.heatmap(cm_nb, annot=True, fmt='d', cmap='Blues', cbar=False)\n",
        "plt.title('Naive Bayes Confusion Matrix')\n",
        "plt.xlabel('Predicted')\n",
        "plt.ylabel('Actual')\n",
        "plt.show()"
      ]
    },
    {
      "cell_type": "code",
      "execution_count": 7,
      "metadata": {},
      "outputs": [
        {
          "name": "stdout",
          "output_type": "stream",
          "text": [
            "Model training selesai.\n",
            "==== Logistic Regression ====\n",
            "Confusion Matrix:\n",
            "Accuracy: 0.9972\n",
            "Precision: 0.9972\n",
            "Recall: 0.9972\n",
            "F1-Score: 0.9971\n",
            "\n",
            "----------------------------------------\n",
            "\n"
          ]
        },
        {
          "data": {
            "image/png": "[encoded data removed]",
            "text/plain": [
              "<Figure size 500x400 with 1 Axes>"
            ]
          },
          "metadata": {},
          "output_type": "display_data"
        }
      ],
      "source": [
        "# Model Logistic Regression\n",
        "lr = LogisticRegression(max_iter=1000, random_state=42).fit(x_train, y_train)\n",
        "\n",
        "print(\"Model training selesai.\")\n",
        "\n",
        "# Prediksi menggunakan Logistic Regression\n",
        "y_pred_lr = lr.predict(x_test)\n",
        "cm_lr = confusion_matrix(y_test, y_pred_lr)\n",
        "\n",
        "# Tampilkan confusion matrix secara keseluruhan\n",
        "print(\"==== Logistic Regression ====\")\n",
        "print(\"Confusion Matrix:\")\n",
        "\n",
        "# Tampilkan metrik untuk multi-kelas\n",
        "print(f\"Accuracy: {accuracy_score(y_test, y_pred_lr):.4f}\")\n",
        "print(f\"Precision: {precision_score(y_test, y_pred_lr, average='weighted'):.4f}\")\n",
        "print(f\"Recall: {recall_score(y_test, y_pred_lr, average='weighted'):.4f}\")\n",
        "print(f\"F1-Score: {f1_score(y_test, y_pred_lr, average='weighted'):.4f}\")\n",
        "print(\"\\n\" + \"-\"*40 + \"\\n\")\n",
        "\n",
        "# Plot confusion matrix\n",
        "plt.figure(figsize=(5, 4))\n",
        "sns.heatmap(cm_lr, annot=True, fmt='d', cmap='Blues', cbar=False)\n",
        "plt.title('Logistic Regression Confusion Matrix')\n",
        "plt.xlabel('Predicted')\n",
        "plt.ylabel('Actual')\n",
        "plt.show()"
      ]
    },
    {
      "cell_type": "code",
      "execution_count": 8,
      "metadata": {},
      "outputs": [
        {
          "name": "stdout",
          "output_type": "stream",
          "text": [
            "==== Decision Tree ====\n",
            "Confusion Matrix:\n",
            "Accuracy: 0.9993\n",
            "Precision: 0.9993\n",
            "Recall: 0.9993\n",
            "F1-Score: 0.9993\n",
            "\n",
            "----------------------------------------\n",
            "\n"
          ]
        },
        {
          "data": {
            "image/png": "[encoded data removed]",
            "text/plain": [
              "<Figure size 500x400 with 1 Axes>"
            ]
          },
          "metadata": {},
          "output_type": "display_data"
        }
      ],
      "source": [
        "# Decision Tree\n",
        "y_pred_nb = dt.predict(x_test)\n",
        "cm_nb = confusion_matrix(y_test, y_pred_nb)\n",
        "\n",
        "# Tampilkan confusion matrix secara keseluruhan\n",
        "print(\"==== Decision Tree ====\")\n",
        "print(\"Confusion Matrix:\")\n",
        "\n",
        "# Tampilkan metrik untuk multi-kelas\n",
        "print(f\"Accuracy: {accuracy_score(y_test, y_pred_nb):.4f}\")\n",
        "print(f\"Precision: {precision_score(y_test, y_pred_nb, average='weighted'):.4f}\")\n",
        "print(f\"Recall: {recall_score(y_test, y_pred_nb, average='weighted'):.4f}\")\n",
        "print(f\"F1-Score: {f1_score(y_test, y_pred_nb, average='weighted'):.4f}\")\n",
        "print(\"\\n\" + \"-\"*40 + \"\\n\")\n",
        "\n",
        "# Plot confusion matrix\n",
        "plt.figure(figsize=(5, 4))\n",
        "sns.heatmap(cm_nb, annot=True, fmt='d', cmap='Blues', cbar=False)\n",
        "plt.title('Decision Tree Confusion Matrix')\n",
        "plt.xlabel('Predicted')\n",
        "plt.ylabel('Actual')\n",
        "plt.show()"
      ]
    },
    {
      "cell_type": "code",
      "execution_count": 9,
      "metadata": {},
      "outputs": [
        {
          "name": "stdout",
          "output_type": "stream",
          "text": [
            "==== Random Forest ====\n",
            "Confusion Matrix:\n",
            "Accuracy: 0.9986\n",
            "Precision: 0.9986\n",
            "Recall: 0.9986\n",
            "F1-Score: 0.9986\n",
            "\n",
            "----------------------------------------\n",
            "\n"
          ]
        },
        {
          "data": {
            "image/png": "[encoded data removed]",
            "text/plain": [
              "<Figure size 500x400 with 1 Axes>"
            ]
          },
          "metadata": {},
          "output_type": "display_data"
        }
      ],
      "source": [
        "# Random Forest\n",
        "y_pred_nb = rf.predict(x_test)\n",
        "cm_nb = confusion_matrix(y_test, y_pred_nb)\n",
        "\n",
        "# Tampilkan random forest secara keseluruhan\n",
        "print(\"==== Random Forest ====\")\n",
        "print(\"Confusion Matrix:\")\n",
        "\n",
        "# Tampilkan metrik untuk multi-kelas\n",
        "print(f\"Accuracy: {accuracy_score(y_test, y_pred_nb):.4f}\")\n",
        "print(f\"Precision: {precision_score(y_test, y_pred_nb, average='weighted'):.4f}\")\n",
        "print(f\"Recall: {recall_score(y_test, y_pred_nb, average='weighted'):.4f}\")\n",
        "print(f\"F1-Score: {f1_score(y_test, y_pred_nb, average='weighted'):.4f}\")\n",
        "print(\"\\n\" + \"-\"*40 + \"\\n\")\n",
        "\n",
        "# Plot confusion matrix\n",
        "plt.figure(figsize=(5, 4))\n",
        "sns.heatmap(cm_nb, annot=True, fmt='d', cmap='Blues', cbar=False)\n",
        "plt.title('Decision Tree Confusion Matrix')\n",
        "plt.xlabel('Predicted')\n",
        "plt.ylabel('Actual')\n",
        "plt.show()"
      ]
    },
    {
      "cell_type": "code",
      "execution_count": 10,
      "metadata": {},
      "outputs": [
        {
          "name": "stdout",
          "output_type": "stream",
          "text": [
            "                 Model  Accuracy  Precision    Recall  F1-Score\n",
            "0          Naive Bayes  0.976596   0.984022  0.976596  0.978626\n",
            "1  Logistic Regression  0.997163   0.997178  0.997163  0.997126\n",
            "2        Decision Tree  0.999291   0.999292  0.999291  0.999288\n",
            "3        Random Forest  0.998582   0.998597  0.998582  0.998585\n"
          ]
        }
      ],
      "source": [
        "# Function\n",
        "def evaluate_model(model, X_test, y_test):\n",
        "    y_pred = model.predict(X_test)\n",
        "    cm = confusion_matrix(y_test, y_pred)\n",
        "    \n",
        "    # Metrik evaluasi untuk multi-kelas\n",
        "    results = {\n",
        "        'Confusion Matrix': cm,\n",
        "        'Accuracy': accuracy_score(y_test, y_pred),\n",
        "        'Precision': precision_score(y_test, y_pred, average='weighted'),\n",
        "        'Recall': recall_score(y_test, y_pred, average='weighted'),\n",
        "        'F1-Score': f1_score(y_test, y_pred, average='weighted')\n",
        "    }\n",
        "    return results\n",
        "\n",
        "# Evaluate each model and collect results\n",
        "results = {\n",
        "    'Naive Bayes': evaluate_model(nb, x_test, y_test),\n",
        "    'Logistic Regression': evaluate_model(lr, x_test, y_test),\n",
        "    'Decision Tree': evaluate_model(dt, x_test, y_test),\n",
        "    'Random Forest': evaluate_model(rf, x_test, y_test)\n",
        "}\n",
        "\n",
        "# Create a DataFrame to summarize results\n",
        "summary_df = pd.DataFrame(columns=['Model', 'Accuracy', 'Precision', 'Recall', 'F1-Score'])\n",
        "\n",
        "# Populate the DataFrame with results\n",
        "rows = []\n",
        "for model_name, metrics in results.items():\n",
        "    rows.append({\n",
        "        'Model': model_name,\n",
        "        'Accuracy': metrics['Accuracy'],\n",
        "        'Precision': metrics['Precision'],\n",
        "        'Recall': metrics['Recall'],\n",
        "        'F1-Score': metrics['F1-Score']\n",
        "    })\n",
        "\n",
        "# Convert list of dictionaries to DataFrame\n",
        "summary_df = pd.DataFrame(rows)\n",
        "\n",
        "# Display the summary DataFrame\n",
        "print(summary_df)"
      ]
    },
    {
      "cell_type": "markdown",
      "metadata": {
        "id": "H4_9OwrsXZlz"
      },
      "source": [
        "metode yang digunakan gausian (naive bayes), logistic regression, decision tree dan random forest. nilai evaluasi paling baik akan digunakan.\n",
        "Hasil nilai dari hasil percobaan metode itu yang paling baik adalah Random Forest dengan hasil yang sangat baikk."
      ]
    },
    {
      "cell_type": "markdown",
      "metadata": {
        "id": "ph9yIYDXEPuB"
      },
      "source": [
        "## **c. Tuning Model Klasifikasi (Optional)**"
      ]
    },
    {
      "cell_type": "markdown",
      "metadata": {
        "id": "-Bikx3LINv5e"
      },
      "source": [
        "Gunakan GridSearchCV, RandomizedSearchCV, atau metode lainnya untuk mencari kombinasi hyperparameter terbaik"
      ]
    },
    {
      "cell_type": "code",
      "execution_count": 11,
      "metadata": {
        "id": "winbFzb8NL95"
      },
      "outputs": [],
      "source": [
        "# TIDAK ADA (-)"
      ]
    },
    {
      "cell_type": "markdown",
      "metadata": {
        "id": "hE7pqlEPEYzI"
      },
      "source": [
        "## **d. Evaluasi Model Klasifikasi setelah Tuning (Optional)**"
      ]
    },
    {
      "cell_type": "markdown",
      "metadata": {
        "id": "feaPESoeN0zz"
      },
      "source": [
        "Berikut adalah rekomendasi tahapannya.\n",
        "1. Gunakan model dengan hyperparameter terbaik.\n",
        "2. Hitung ulang metrik evaluasi untuk melihat apakah ada peningkatan performa."
      ]
    },
    {
      "cell_type": "code",
      "execution_count": 12,
      "metadata": {
        "id": "HTXZRvEeNMb1"
      },
      "outputs": [],
      "source": [
        "# TIDAK ADA (-)"
      ]
    },
    {
      "cell_type": "markdown",
      "metadata": {
        "id": "ZRsOdm4uEgAW"
      },
      "source": [
        "## **e. Analisis Hasil Evaluasi Model Klasifikasi**"
      ]
    },
    {
      "cell_type": "markdown",
      "metadata": {
        "id": "Hm3BhSi6N4_l"
      },
      "source": [
        "Berikut adalah **rekomendasi** tahapannya.\n",
        "1. Bandingkan hasil evaluasi sebelum dan setelah tuning (jika dilakukan).\n",
        "2. Identifikasi kelemahan model, seperti:\n",
        "  - Precision atau Recall rendah untuk kelas tertentu.\n",
        "  - Apakah model mengalami overfitting atau underfitting?\n",
        "3. Berikan rekomendasi tindakan lanjutan, seperti mengumpulkan data tambahan atau mencoba algoritma lain jika hasil belum memuaskan."
      ]
    },
    {
      "cell_type": "code",
      "execution_count": 13,
      "metadata": {},
      "outputs": [
        {
          "name": "stdout",
          "output_type": "stream",
          "text": [
            "                 Model Accuracy Precision  Recall F1-Score\n",
            "0          Naive Bayes   97.66%    98.40%  97.66%   97.86%\n",
            "1  Logistic Regression   99.72%    99.72%  99.72%   99.71%\n",
            "2        Decision Tree   99.93%    99.93%  99.93%   99.93%\n",
            "3        Random Forest   99.86%    99.86%  99.86%   99.86%\n"
          ]
        },
        {
          "name": "stderr",
          "output_type": "stream",
          "text": [
            "C:\\Users\\User\\AppData\\Local\\Temp\\ipykernel_15700\\1204287861.py:42: FutureWarning: DataFrame.applymap has been deprecated. Use DataFrame.map instead.\n",
            "  summary_df[['Accuracy', 'Precision', 'Recall', 'F1-Score']] = summary_df[['Accuracy', 'Precision', 'Recall', 'F1-Score']].applymap(lambda x: f\"{x:.2f}%\")\n"
          ]
        }
      ],
      "source": [
        "# Function to evaluate model\n",
        "def evaluate_model(model, X_test, y_test):\n",
        "    y_pred = model.predict(X_test)\n",
        "    cm = confusion_matrix(y_test, y_pred)\n",
        "    \n",
        "    # Metrik evaluasi untuk multi-kelas\n",
        "    results = {\n",
        "        'Confusion Matrix': cm,\n",
        "        'Accuracy': accuracy_score(y_test, y_pred),\n",
        "        'Precision': precision_score(y_test, y_pred, average='weighted'),\n",
        "        'Recall': recall_score(y_test, y_pred, average='weighted'),\n",
        "        'F1-Score': f1_score(y_test, y_pred, average='weighted')\n",
        "    }\n",
        "    return results\n",
        "\n",
        "# Assume you have trained models: nb, lr, dt, rf\n",
        "\n",
        "# Evaluate each model and collect results\n",
        "results = {\n",
        "    'Naive Bayes': evaluate_model(nb, x_test, y_test),\n",
        "    'Logistic Regression': evaluate_model(lr, x_test, y_test),\n",
        "    'Decision Tree': evaluate_model(dt, x_test, y_test),\n",
        "    'Random Forest': evaluate_model(rf, x_test, y_test)\n",
        "}\n",
        "\n",
        "# Create a DataFrame to summarize results\n",
        "summary_df = pd.DataFrame(columns=['Model', 'Accuracy', 'Precision', 'Recall', 'F1-Score'])\n",
        "\n",
        "# Populate the DataFrame with results\n",
        "rows = []\n",
        "for model_name, metrics in results.items():\n",
        "    rows.append({\n",
        "        'Model': model_name,\n",
        "        'Accuracy': metrics['Accuracy']*100,\n",
        "        'Precision': metrics['Precision']*100,\n",
        "        'Recall': metrics['Recall']*100,\n",
        "        'F1-Score': metrics['F1-Score']*100\n",
        "    })\n",
        "\n",
        "# Convert list of dictionaries to DataFrame\n",
        "summary_df = pd.DataFrame(rows)\n",
        "summary_df[['Accuracy', 'Precision', 'Recall', 'F1-Score']] = summary_df[['Accuracy', 'Precision', 'Recall', 'F1-Score']].applymap(lambda x: f\"{x:.2f}%\")\n",
        "\n",
        "# Display the summary DataFrame\n",
        "print(summary_df)"
      ]
    },
    {
      "cell_type": "markdown",
      "metadata": {},
      "source": [
        "Hasil diatas tidak melalui proses tuning karena hasil sudah cukup sangat baik dalam proses klasifikasi. dan yang paling terbaik adalah dengan metode Random Forest akurasi 99.86%    precision 99.86%  recall 99.86%    dan F1-score 99.86%"
      ]
    }
  ],
  "metadata": {
    "colab": {
      "provenance": []
    },
    "kernelspec": {
      "display_name": "Python 3",
      "name": "python3"
    },
    "language_info": {
      "codemirror_mode": {
        "name": "ipython",
        "version": 3
      },
      "file_extension": ".py",
      "mimetype": "text/x-python",
      "name": "python",
      "nbconvert_exporter": "python",
      "pygments_lexer": "ipython3",
      "version": "3.13.1"
    }
  },
  "nbformat": 4,
  "nbformat_minor": 0
}
