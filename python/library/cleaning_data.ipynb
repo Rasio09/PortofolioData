{
 "cells": [
  {
   "cell_type": "markdown",
   "metadata": {},
   "source": [
    "<h1>CLEANING DATA"
   ]
  },
  {
   "cell_type": "markdown",
   "metadata": {},
   "source": [
    "<H2> TEKNIK MENGATASI UNTUK MISSING VALUE"
   ]
  },
  {
   "cell_type": "markdown",
   "metadata": {},
   "source": [
    "<H3> DROPPING"
   ]
  },
  {
   "cell_type": "code",
   "execution_count": null,
   "metadata": {},
   "outputs": [],
   "source": [
    "# menggunakan fungsi dari dropna()\n",
    "# UNTUK MENGHAPUS DATA\n",
    "import pandas as pd\n",
    "\n",
    "products_df = pd.read_csv(\"product.csv\")\n",
    "products_df.dropna(axis=0, inplace=True)"
   ]
  },
  {
   "cell_type": "markdown",
   "metadata": {},
   "source": [
    "<H3> IMPUTATION"
   ]
  },
  {
   "cell_type": "code",
   "execution_count": null,
   "metadata": {},
   "outputs": [],
   "source": [
    "# menggunakan cara mengisi dengan fill dari missing value tertentu nilai yang diberikan dengan menggunakan MEAN, MEDIAN, MODUS\n",
    "# menggunakan fungsi dari fillna()\n",
    "\n",
    "import pandas as pd\n",
    " \n",
    "data=pd.read_csv('employee_data.csv')\n",
    " \n",
    "data.age.fillna(value=data.age.mean(), inplace=True)"
   ]
  },
  {
   "cell_type": "markdown",
   "metadata": {},
   "source": [
    "<H3> INTERPOLATION"
   ]
  },
  {
   "cell_type": "code",
   "execution_count": null,
   "metadata": {},
   "outputs": [],
   "source": [
    "# INI COCOK UNTUK DATA MEMILIKI SIFAT TIME SERIES\n",
    "# menggunakan fungsi dari interpolate()\n",
    "\n",
    "import pandas as pd\n",
    " \n",
    "data=pd.read_csv('bbca_index.csv')\n",
    " \n",
    "data.close_price.interpolate(method='linear', limit_direction='forward', inplace=True)"
   ]
  },
  {
   "cell_type": "markdown",
   "metadata": {},
   "source": [
    "<H3> TEKNIK UNTUK MENGATASI OUTLIER"
   ]
  },
  {
   "cell_type": "code",
   "execution_count": null,
   "metadata": {},
   "outputs": [],
   "source": [
    "# DENGAN MENGGUNAKAN HAPUS ATAU DROP SEMUA DATA YANG  ADA OUTLIERNYA\n",
    "\n",
    "# DROP()\n",
    "import pandas as pd\n",
    " \n",
    "df = pd.read_csv(\"data.csv\")\n",
    " \n",
    "Q1 = (df['TotalCharges']).quantile(0.25)\n",
    "Q3 = (df['TotalCharges']).quantile(0.75)\n",
    "IQR = Q3 - Q1\n",
    " \n",
    "maximum = Q3 + (1.5*IQR)\n",
    "minimum = Q1 - (1.5*IQR)\n",
    " \n",
    "kondisi_lower_than = df['TotalCharges'] < minimum\n",
    "kondisi_more_than = df['TotalCharges'] > maximum\n",
    " \n",
    "df.drop(df[kondisi_lower_than].index, inplace=True)\n",
    "df.drop(df[kondisi_more_than].index, inplace=True)"
   ]
  },
  {
   "cell_type": "markdown",
   "metadata": {},
   "source": [
    "<H3> IMPUTATION"
   ]
  },
  {
   "cell_type": "code",
   "execution_count": null,
   "metadata": {},
   "outputs": [],
   "source": [
    "# MENGGANTI OUTLIER DENGAN NILAINYA MEAN, MEDIAN DAN MODE SELAIN ITU JUGA BISA MENGGANTI DENGAN BOUNDARY VALUE\n",
    "\n",
    "# menggunakan mask, method tersebut menerima parameter cond\n",
    "df = pd.read_csv(\"data.csv\")\n",
    " \n",
    "Q1 = (df['TotalCharges']).quantile(0.25)\n",
    "Q3 = (df['TotalCharges']).quantile(0.75)\n",
    "IQR = Q3 - Q1\n",
    " \n",
    "maximum = Q3 + (1.5*IQR)\n",
    "minimum = Q1 - (1.5*IQR)\n",
    " \n",
    "kondisi_lower_than = df['TotalCharges'] < minimum\n",
    "kondisi_more_than = df['TotalCharges'] > maximum\n",
    " \n",
    "df.mask(cond=kondisi_more_than, maximum, axis=1, inplace=True)\n",
    "df.mask(cond=kondisi_lower_than, minimum, axis=1, inplace=True)\n"
   ]
  },
  {
   "cell_type": "markdown",
   "metadata": {},
   "source": [
    "<H3> MENGATASI DUPLICATE DATA"
   ]
  },
  {
   "cell_type": "code",
   "execution_count": null,
   "metadata": {},
   "outputs": [],
   "source": [
    "# menggunakan drop_duplicates()\n",
    "import pandas as pd\n",
    " \n",
    "df = pd.read_csv(\"data.csv\")\n",
    "df.drop_duplicates(inplace=True)"
   ]
  }
 ],
 "metadata": {
  "kernelspec": {
   "display_name": "Python 3",
   "language": "python",
   "name": "python3"
  },
  "language_info": {
   "codemirror_mode": {
    "name": "ipython",
    "version": 3
   },
   "file_extension": ".py",
   "mimetype": "text/x-python",
   "name": "python",
   "nbconvert_exporter": "python",
   "pygments_lexer": "ipython3",
   "version": "3.13.1"
  }
 },
 "nbformat": 4,
 "nbformat_minor": 2
}
