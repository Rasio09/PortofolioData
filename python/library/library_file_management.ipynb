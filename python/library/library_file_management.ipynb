{
 "cells": [
  {
   "cell_type": "markdown",
   "metadata": {},
   "source": [
    "<h1> LIBRARY FILE MANAGEMENT"
   ]
  },
  {
   "cell_type": "markdown",
   "metadata": {},
   "source": [
    "<H3>OS"
   ]
  },
  {
   "cell_type": "code",
   "execution_count": null,
   "metadata": {},
   "outputs": [
    {
     "ename": "",
     "evalue": "",
     "output_type": "error",
     "traceback": [
      "\u001b[1;31mFailed to start the Kernel. \n",
      "\u001b[1;31mUnable to start Kernel 'Python 3.13.1' due to a timeout waiting for the ports to get used. \n",
      "\u001b[1;31mView Jupyter <a href='command:jupyter.viewOutput'>log</a> for further details."
     ]
    }
   ],
   "source": [
    "import os\n",
    "print(os.getcwd())"
   ]
  },
  {
   "cell_type": "markdown",
   "metadata": {},
   "source": [
    "<H3>JSON"
   ]
  },
  {
   "cell_type": "code",
   "execution_count": 5,
   "metadata": {},
   "outputs": [
    {
     "name": "stdout",
     "output_type": "stream",
     "text": [
      "6\n"
     ]
    }
   ],
   "source": [
    "import json\n",
    " \n",
    "# contoh JSON:\n",
    "x = '{ \"nama\":\"Buchori\", \"umur\":22, \"Kota\":\"New York\", \"anak\": [{\"namaAwal\": \"Alice\", \"Age\": 6}]}'\n",
    " \n",
    "# parse  x:\n",
    "y = json.loads(x)\n",
    " \n",
    "print(y[\"anak\"][0][\"Age\"])"
   ]
  },
  {
   "cell_type": "code",
   "execution_count": 6,
   "metadata": {},
   "outputs": [
    {
     "name": "stdout",
     "output_type": "stream",
     "text": [
      "22\n"
     ]
    }
   ],
   "source": [
    "# contoh JSON:\n",
    "x = '{ \"nama\":\"Buchori\", \"umur\":22, \"Kota\":\"New York\"}'\n",
    " \n",
    "# parse  x:\n",
    "y = json.loads(x)\n",
    " \n",
    "print(y[\"umur\"])"
   ]
  },
  {
   "cell_type": "markdown",
   "metadata": {},
   "source": [
    "<H3>PICKLE"
   ]
  },
  {
   "cell_type": "code",
   "execution_count": 7,
   "metadata": {},
   "outputs": [],
   "source": [
    "import pickle\n",
    "\n",
    "contoh_dictionary = {1:\"6\", 2:\"2\", 3:\"f\"}\n",
    "pickle_keluar = open(\"dict.pickle\",\"wb\")\n",
    "pickle.dump(contoh_dictionary, pickle_keluar)\n",
    "pickle_keluar.close()"
   ]
  },
  {
   "cell_type": "code",
   "execution_count": 8,
   "metadata": {},
   "outputs": [
    {
     "name": "stdout",
     "output_type": "stream",
     "text": [
      "{1: '6', 2: '2', 3: 'f'}\n"
     ]
    }
   ],
   "source": [
    "import pickle\n",
    "pickle_masuk = open(\"dict.pickle\", \"rb\")\n",
    "contohDictionary = pickle.load(pickle_masuk)\n",
    "pickle_masuk.close()\n",
    " \n",
    "print(contohDictionary)"
   ]
  }
 ],
 "metadata": {
  "kernelspec": {
   "display_name": "Python 3",
   "language": "python",
   "name": "python3"
  },
  "language_info": {
   "codemirror_mode": {
    "name": "ipython",
    "version": 3
   },
   "file_extension": ".py",
   "mimetype": "text/x-python",
   "name": "python",
   "nbconvert_exporter": "python",
   "pygments_lexer": "ipython3",
   "version": "3.13.1"
  }
 },
 "nbformat": 4,
 "nbformat_minor": 2
}
