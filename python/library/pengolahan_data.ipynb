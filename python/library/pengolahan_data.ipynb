{
 "cells": [
  {
   "cell_type": "markdown",
   "metadata": {},
   "source": [
    "<h1>Pengolahan Data"
   ]
  },
  {
   "cell_type": "markdown",
   "metadata": {},
   "source": [
    "<h3>Pandas"
   ]
  },
  {
   "cell_type": "code",
   "execution_count": null,
   "metadata": {},
   "outputs": [],
   "source": [
    "import pandas as pd\n",
    " \n",
    "df = pd.read_csv(\"data.csv\", delimiter=\",\")"
   ]
  },
  {
   "cell_type": "code",
   "execution_count": null,
   "metadata": {},
   "outputs": [],
   "source": [
    "import pandas as pd\n",
    " \n",
    "df = pd.read_excel(\"data.xlsx\", sheet_name=\"Sheet1\")"
   ]
  },
  {
   "cell_type": "code",
   "execution_count": null,
   "metadata": {},
   "outputs": [],
   "source": [
    "import pandas as pd\n",
    " \n",
    "df = pd.read_json(\"data.json\")"
   ]
  },
  {
   "cell_type": "code",
   "execution_count": null,
   "metadata": {},
   "outputs": [],
   "source": [
    "import pandas as pd\n",
    " \n",
    "url = \"https://www.fdic.gov/resources/resolutions/bank-failures/failed-bank-list\"\n",
    "df = pd.read_html(url)[0]"
   ]
  },
  {
   "cell_type": "code",
   "execution_count": null,
   "metadata": {},
   "outputs": [],
   "source": [
    "import pandas as pd\n",
    " \n",
    "df = pd.read_xml(\"https://www.w3schools.com/xml/books.xml\")"
   ]
  },
  {
   "cell_type": "code",
   "execution_count": null,
   "metadata": {},
   "outputs": [],
   "source": [
    "# UNTUK SQL\n",
    "# READ TABEL\n",
    "import pandas as pd\n",
    "import sqlalchemy as sqla\n",
    " \n",
    "db = sqla.create_engine(\"sqlite:///mydata.sqlite\")\n",
    " \n",
    "pd.read_sql_table(\"table_name\", db)\n",
    "\n",
    "# UNTUK READ SQL QUERY\n",
    "import pandas as pd\n",
    "import sqlalchemy as sqla\n",
    " \n",
    "db = sqla.create_engine(\"sqlite:///mydata.sqlite\")\n",
    " \n",
    "pd.read_sql_query(\"SELECT * FROM table_name\", db)\n",
    "\n",
    "# READ SQL\n",
    "import pandas as pd\n",
    "import sqlalchemy as sqla\n",
    " \n",
    "db = sqla.create_engine(\"sqlite:///mydata.sqlite\")\n",
    " \n",
    "pd.read_sql(\"SELECT * FROM table_name\", db)"
   ]
  },
  {
   "cell_type": "code",
   "execution_count": 1,
   "metadata": {},
   "outputs": [
    {
     "ename": "ModuleNotFoundError",
     "evalue": "No module named 'pandas'",
     "output_type": "error",
     "traceback": [
      "\u001b[1;31m---------------------------------------------------------------------------\u001b[0m",
      "\u001b[1;31mModuleNotFoundError\u001b[0m                       Traceback (most recent call last)",
      "Cell \u001b[1;32mIn[1], line 1\u001b[0m\n\u001b[1;32m----> 1\u001b[0m \u001b[38;5;28;01mimport\u001b[39;00m\u001b[38;5;250m \u001b[39m\u001b[38;5;21;01mpandas\u001b[39;00m\u001b[38;5;250m \u001b[39m\u001b[38;5;28;01mas\u001b[39;00m\u001b[38;5;250m \u001b[39m\u001b[38;5;21;01mpd\u001b[39;00m\n\u001b[0;32m      3\u001b[0m \u001b[38;5;66;03m# membuat tampilan dataframe\u001b[39;00m\n\u001b[0;32m      4\u001b[0m data \u001b[38;5;241m=\u001b[39m {\n\u001b[0;32m      5\u001b[0m     \u001b[38;5;124m'\u001b[39m\u001b[38;5;124mNama\u001b[39m\u001b[38;5;124m'\u001b[39m : [\u001b[38;5;124m'\u001b[39m\u001b[38;5;124mJohn\u001b[39m\u001b[38;5;124m'\u001b[39m, \u001b[38;5;124m'\u001b[39m\u001b[38;5;124mJane\u001b[39m\u001b[38;5;124m'\u001b[39m, \u001b[38;5;124m'\u001b[39m\u001b[38;5;124mBob\u001b[39m\u001b[38;5;124m'\u001b[39m, \u001b[38;5;124m'\u001b[39m\u001b[38;5;124mAlice\u001b[39m\u001b[38;5;124m'\u001b[39m],\n\u001b[0;32m      6\u001b[0m     \u001b[38;5;124m'\u001b[39m\u001b[38;5;124mUsia\u001b[39m\u001b[38;5;124m'\u001b[39m : [\u001b[38;5;241m25\u001b[39m, \u001b[38;5;241m30\u001b[39m, \u001b[38;5;241m22\u001b[39m, \u001b[38;5;241m28\u001b[39m],\n\u001b[0;32m      7\u001b[0m     \u001b[38;5;124m'\u001b[39m\u001b[38;5;124mPekerjaan\u001b[39m\u001b[38;5;124m'\u001b[39m : [\u001b[38;5;124m'\u001b[39m\u001b[38;5;124mEngineer\u001b[39m\u001b[38;5;124m'\u001b[39m, \u001b[38;5;124m'\u001b[39m\u001b[38;5;124mTeacher\u001b[39m\u001b[38;5;124m'\u001b[39m, \u001b[38;5;124m'\u001b[39m\u001b[38;5;124mDesigner\u001b[39m\u001b[38;5;124m'\u001b[39m, \u001b[38;5;124m'\u001b[39m\u001b[38;5;124mDoctor\u001b[39m\u001b[38;5;124m'\u001b[39m],\n\u001b[0;32m      8\u001b[0m }\n",
      "\u001b[1;31mModuleNotFoundError\u001b[0m: No module named 'pandas'"
     ]
    }
   ],
   "source": [
    "import pandas as pd\n",
    "\n",
    "# membuat tampilan dataframe\n",
    "data = {\n",
    "    'Nama' : ['John', 'Jane', 'Bob', 'Alice'],\n",
    "    'Usia' : [25, 30, 22, 28],\n",
    "    'Pekerjaan' : ['Engineer', 'Teacher', 'Designer', 'Doctor'],\n",
    "}\n",
    "\n",
    "df = pd.DataFrame(data)\n",
    "print(df)"
   ]
  },
  {
   "cell_type": "code",
   "execution_count": 1,
   "metadata": {},
   "outputs": [
    {
     "ename": "ModuleNotFoundError",
     "evalue": "No module named 'pandas'",
     "output_type": "error",
     "traceback": [
      "\u001b[1;31m---------------------------------------------------------------------------\u001b[0m",
      "\u001b[1;31mModuleNotFoundError\u001b[0m                       Traceback (most recent call last)",
      "Cell \u001b[1;32mIn[1], line 2\u001b[0m\n\u001b[0;32m      1\u001b[0m \u001b[38;5;66;03m# MENGGABUNGKAN DATA MENJADI DATA SATU DATAFRAME\u001b[39;00m\n\u001b[1;32m----> 2\u001b[0m \u001b[38;5;28;01mimport\u001b[39;00m\u001b[38;5;250m \u001b[39m\u001b[38;5;21;01mpandas\u001b[39;00m\u001b[38;5;250m \u001b[39m\u001b[38;5;28;01mas\u001b[39;00m\u001b[38;5;250m \u001b[39m\u001b[38;5;21;01mpd\u001b[39;00m\n\u001b[0;32m      4\u001b[0m product_df \u001b[38;5;241m=\u001b[39m pd\u001b[38;5;241m.\u001b[39mread_csv(\u001b[38;5;124m\"\u001b[39m\u001b[38;5;124mproduct.csv\u001b[39m\u001b[38;5;124m\"\u001b[39m)\n\u001b[0;32m      5\u001b[0m orders_df \u001b[38;5;241m=\u001b[39m pd\u001b[38;5;241m.\u001b[39mread_csv(\u001b[38;5;124m\"\u001b[39m\u001b[38;5;124morders.csv\u001b[39m\u001b[38;5;124m\"\u001b[39m)\n",
      "\u001b[1;31mModuleNotFoundError\u001b[0m: No module named 'pandas'"
     ]
    }
   ],
   "source": [
    "# MENGGABUNGKAN DATA MENJADI DATA SATU DATAFRAME\n",
    "import pandas as pd\n",
    " \n",
    "product_df = pd.read_csv(\"product.csv\")\n",
    "orders_df = pd.read_csv(\"orders.csv\")\n",
    " \n",
    "new_order_df = pd.merge(\n",
    "    left=product_df,\n",
    "    right=orders_df,\n",
    "    how=\"inner\",\n",
    "    left_on=\"product_id\",\n",
    "    right_on=\"product_id\"\n",
    ")"
   ]
  },
  {
   "cell_type": "markdown",
   "metadata": {},
   "source": [
    "<h3>Numpy"
   ]
  },
  {
   "cell_type": "code",
   "execution_count": 3,
   "metadata": {},
   "outputs": [
    {
     "name": "stdout",
     "output_type": "stream",
     "text": [
      "[[1 2 3]\n",
      " [4 5 6]\n",
      " [7 8 9]]\n"
     ]
    }
   ],
   "source": [
    "import numpy\n",
    "\n",
    "matriks = numpy.array([[1, 2, 3], [4, 5, 6], [7, 8 ,9]])\n",
    "print(matriks)\n"
   ]
  },
  {
   "cell_type": "markdown",
   "metadata": {},
   "source": [
    "<h3>Matplotlib"
   ]
  },
  {
   "cell_type": "code",
   "execution_count": 4,
   "metadata": {},
   "outputs": [
    {
     "name": "stderr",
     "output_type": "stream",
     "text": [
      "Matplotlib is building the font cache; this may take a moment.\n"
     ]
    },
    {
     "data": {
      "image/png": "[encoded data removed]",
      "text/plain": [
       "<Figure size 640x480 with 1 Axes>"
      ]
     },
     "metadata": {},
     "output_type": "display_data"
    }
   ],
   "source": [
    "import matplotlib.pyplot as plt\n",
    "\n",
    "# Data\n",
    "x = [1, 2, 3, 4, 5]\n",
    "y = [2, 4, 6, 8, 10]\n",
    "\n",
    "# membuat plot garis\n",
    "plt.plot(x, y)\n",
    "\n",
    "plt.title(\"Contoh Plot Garis\")\n",
    "plt.xlabel(\"Sumbu X\")\n",
    "plt.ylabel(\"Sumbu Y\")\n",
    "\n",
    "# menampilkan plot\n",
    "plt.show()"
   ]
  },
  {
   "cell_type": "markdown",
   "metadata": {},
   "source": [
    "<h3>Seaborn"
   ]
  },
  {
   "cell_type": "code",
   "execution_count": 5,
   "metadata": {},
   "outputs": [
    {
     "data": {
      "image/png": "[encoded data removed]",
      "text/plain": [
       "<Figure size 640x480 with 1 Axes>"
      ]
     },
     "metadata": {},
     "output_type": "display_data"
    }
   ],
   "source": [
    "import seaborn as sns\n",
    "import matplotlib.pyplot as plt\n",
    "# memuat dataset tips hanya contoh data saja\n",
    "tips = sns.load_dataset('tips')\n",
    "\n",
    "# contoh plot histogram\n",
    "sns.histplot(tips['total_bill'], kde=True)\n",
    "plt.title('Histogram Total Bill')\n",
    "plt.xlabel('Total Bill')\n",
    "plt.ylabel('Frequency')\n",
    "plt.show()"
   ]
  },
  {
   "cell_type": "code",
   "execution_count": 3,
   "metadata": {},
   "outputs": [
    {
     "name": "stdout",
     "output_type": "stream",
     "text": [
      "1.7\n",
      "2.0\n",
      "2\n"
     ]
    }
   ],
   "source": [
    "# MEASURING CENTRAL TENDENCY\n",
    "# MEAN\n",
    "import numpy as np\n",
    " \n",
    "jumlah_kucing = np.array([3, 2, 1, 1, 2, 3, 2, 1, 0, 2])\n",
    "rata = jumlah_kucing.mean()\n",
    "print(rata)\n",
    "\n",
    "# MEDIAN\n",
    "jumlah_kucing = np.array([3, 2, 1, 1, 2, 3, 2, 1, 0, 2])\n",
    "median = np.median(jumlah_kucing)\n",
    "print(median)\n",
    "\n",
    "# MODUS\n",
    "from scipy import stats\n",
    " \n",
    "jumlah_kucing = np.array([3, 2, 1, 1, 2, 3, 2, 1, 0, 2])\n",
    "mode_jumlah_kucing = stats.mode(jumlah_kucing)[0]\n",
    " \n",
    "print(mode_jumlah_kucing)"
   ]
  },
  {
   "cell_type": "code",
   "execution_count": 9,
   "metadata": {},
   "outputs": [
    {
     "name": "stdout",
     "output_type": "stream",
     "text": [
      "3\n",
      "1.0\n",
      "0.9000000000000001\n",
      "0.9486832980505139\n"
     ]
    }
   ],
   "source": [
    "# MEASURING DISPERSION\n",
    "# RANGE\n",
    "import numpy as np\n",
    " \n",
    "jumlah_kucing = np.array([3, 2, 1, 1, 2, 3, 2, 1, 0, 2])\n",
    "range = jumlah_kucing.max() - jumlah_kucing.min()\n",
    "print(range)\n",
    "\n",
    "# INTERQUARTILE RANGE \n",
    "jumlah_kucing = np.array([3, 2, 1, 1, 2, 3, 2, 1, 0, 2])\n",
    "iqr = np.percentile(jumlah_kucing, 75) - np.percentile(jumlah_kucing, 25)\n",
    "print(iqr)\n",
    "\n",
    "# VARIANCE\n",
    "import pandas as pd\n",
    " \n",
    "jumlah_kucing = np.array([3, 2, 1, 1, 2, 3, 2, 1, 0, 2])\n",
    "jumlah_kucing_series = pd.Series(jumlah_kucing)\n",
    "print(jumlah_kucing_series.var())\n",
    "\n",
    "# STANDAR DEVIATION\n",
    "print(jumlah_kucing_series.std())"
   ]
  },
  {
   "cell_type": "code",
   "execution_count": 10,
   "metadata": {},
   "outputs": [
    {
     "data": {
      "image/png": "[encoded data removed]",
      "text/plain": [
       "<Figure size 640x480 with 1 Axes>"
      ]
     },
     "metadata": {},
     "output_type": "display_data"
    },
    {
     "data": {
      "text/plain": [
       "np.float64(-0.2342427896421018)"
      ]
     },
     "execution_count": 10,
     "metadata": {},
     "output_type": "execute_result"
    }
   ],
   "source": [
    "# MEASURING ASYMMETRIC\n",
    "# DISTRIBUSI DATA\n",
    "import numpy as np\n",
    "import matplotlib.pyplot as plt\n",
    " \n",
    "jumlah_kucing = np.array([3, 2, 1, 1, 2, 3, 2, 1, 0, 2])\n",
    "plt.hist(jumlah_kucing, bins=4)\n",
    "plt.show()\n",
    "\n",
    "# SKEWNESS JIKA HASIL NILAI 0 MAKA DISTRIBUSI SIMETRIS\n",
    "# JIKA >0 MAKA DISTRIBUSI CONDONG KE KANAN\n",
    "# JIKA <0 DISTRIBUSI CONDONG KE KIRI\n",
    "import numpy as np\n",
    "import pandas as pd\n",
    " \n",
    "jumlah_kucing = np.array([3, 2, 1, 1, 2, 3, 2, 1, 0, 2])\n",
    "jumlah_kucing_series = pd.Series(jumlah_kucing)\n",
    "jumlah_kucing_series.skew()"
   ]
  },
  {
   "cell_type": "code",
   "execution_count": 11,
   "metadata": {},
   "outputs": [
    {
     "data": {
      "text/html": [
       "<div>\n",
       "<style scoped>\n",
       "    .dataframe tbody tr th:only-of-type {\n",
       "        vertical-align: middle;\n",
       "    }\n",
       "\n",
       "    .dataframe tbody tr th {\n",
       "        vertical-align: top;\n",
       "    }\n",
       "\n",
       "    .dataframe thead th {\n",
       "        text-align: right;\n",
       "    }\n",
       "</style>\n",
       "<table border=\"1\" class=\"dataframe\">\n",
       "  <thead>\n",
       "    <tr style=\"text-align: right;\">\n",
       "      <th></th>\n",
       "      <th>age</th>\n",
       "      <th>communication_skill_score</th>\n",
       "      <th>quantitative_skill_score</th>\n",
       "    </tr>\n",
       "  </thead>\n",
       "  <tbody>\n",
       "    <tr>\n",
       "      <th>age</th>\n",
       "      <td>1.000000</td>\n",
       "      <td>0.848855</td>\n",
       "      <td>-0.922489</td>\n",
       "    </tr>\n",
       "    <tr>\n",
       "      <th>communication_skill_score</th>\n",
       "      <td>0.848855</td>\n",
       "      <td>1.000000</td>\n",
       "      <td>-0.890724</td>\n",
       "    </tr>\n",
       "    <tr>\n",
       "      <th>quantitative_skill_score</th>\n",
       "      <td>-0.922489</td>\n",
       "      <td>-0.890724</td>\n",
       "      <td>1.000000</td>\n",
       "    </tr>\n",
       "  </tbody>\n",
       "</table>\n",
       "</div>"
      ],
      "text/plain": [
       "                                age  communication_skill_score  \\\n",
       "age                        1.000000                   0.848855   \n",
       "communication_skill_score  0.848855                   1.000000   \n",
       "quantitative_skill_score  -0.922489                  -0.890724   \n",
       "\n",
       "                           quantitative_skill_score  \n",
       "age                                       -0.922489  \n",
       "communication_skill_score                 -0.890724  \n",
       "quantitative_skill_score                   1.000000  "
      ]
     },
     "execution_count": 11,
     "metadata": {},
     "output_type": "execute_result"
    }
   ],
   "source": [
    "# MENGHITUNG KORELASI\n",
    "# UNTUK MENCARI RELASI ANTAR VARIABEL ATAU FEATURE\n",
    "import pandas as pd\n",
    " \n",
    "sample_data = {\n",
    "    'name': ['John', 'Alia', 'Ananya', 'Steve', 'Ben'],\n",
    "    'age': [24, 22, 23, 25, 28],  \n",
    "    'communication_skill_score': [85, 70, 75, 90, 90],\n",
    "    'quantitative_skill_score': [80, 90, 80, 75, 70]\n",
    "}\n",
    " \n",
    "df = pd.DataFrame(sample_data)\n",
    " \n",
    "df.corr(numeric_only=True)"
   ]
  },
  {
   "cell_type": "code",
   "execution_count": 12,
   "metadata": {},
   "outputs": [
    {
     "data": {
      "text/html": [
       "<div>\n",
       "<style scoped>\n",
       "    .dataframe tbody tr th:only-of-type {\n",
       "        vertical-align: middle;\n",
       "    }\n",
       "\n",
       "    .dataframe tbody tr th {\n",
       "        vertical-align: top;\n",
       "    }\n",
       "\n",
       "    .dataframe thead th {\n",
       "        text-align: right;\n",
       "    }\n",
       "</style>\n",
       "<table border=\"1\" class=\"dataframe\">\n",
       "  <thead>\n",
       "    <tr style=\"text-align: right;\">\n",
       "      <th></th>\n",
       "      <th>age</th>\n",
       "      <th>communication_skill_score</th>\n",
       "      <th>quantitative_skill_score</th>\n",
       "    </tr>\n",
       "  </thead>\n",
       "  <tbody>\n",
       "    <tr>\n",
       "      <th>age</th>\n",
       "      <td>5.30</td>\n",
       "      <td>17.75</td>\n",
       "      <td>-15.75</td>\n",
       "    </tr>\n",
       "    <tr>\n",
       "      <th>communication_skill_score</th>\n",
       "      <td>17.75</td>\n",
       "      <td>82.50</td>\n",
       "      <td>-60.00</td>\n",
       "    </tr>\n",
       "    <tr>\n",
       "      <th>quantitative_skill_score</th>\n",
       "      <td>-15.75</td>\n",
       "      <td>-60.00</td>\n",
       "      <td>55.00</td>\n",
       "    </tr>\n",
       "  </tbody>\n",
       "</table>\n",
       "</div>"
      ],
      "text/plain": [
       "                             age  communication_skill_score  \\\n",
       "age                         5.30                      17.75   \n",
       "communication_skill_score  17.75                      82.50   \n",
       "quantitative_skill_score  -15.75                     -60.00   \n",
       "\n",
       "                           quantitative_skill_score  \n",
       "age                                          -15.75  \n",
       "communication_skill_score                    -60.00  \n",
       "quantitative_skill_score                      55.00  "
      ]
     },
     "execution_count": 12,
     "metadata": {},
     "output_type": "execute_result"
    }
   ],
   "source": [
    "# MENGHITUNG KOVARIANCE\n",
    "import pandas as pd\n",
    " \n",
    "sample_data = {\n",
    "    'name': ['John', 'Alia', 'Ananya', 'Steve', 'Ben'],\n",
    "    'age': [24, 22, 23, 25, 28],  \n",
    "    'communication_skill_score': [85, 70, 75, 90, 90],\n",
    "    'quantitative_skill_score': [80, 90, 80, 75, 70]\n",
    "}\n",
    " \n",
    "df = pd.DataFrame(sample_data)\n",
    " \n",
    "df.cov(numeric_only=True)"
   ]
  }
 ],
 "metadata": {
  "kernelspec": {
   "display_name": "Python 3",
   "language": "python",
   "name": "python3"
  },
  "language_info": {
   "codemirror_mode": {
    "name": "ipython",
    "version": 3
   },
   "file_extension": ".py",
   "mimetype": "text/x-python",
   "name": "python",
   "nbconvert_exporter": "python",
   "pygments_lexer": "ipython3",
   "version": "3.13.1"
  }
 },
 "nbformat": 4,
 "nbformat_minor": 2
}
